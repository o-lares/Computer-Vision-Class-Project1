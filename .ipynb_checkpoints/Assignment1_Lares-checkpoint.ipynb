{
 "cells": [
  {
   "cell_type": "code",
   "execution_count": null,
   "id": "bd50eb32-1803-4f1c-be4e-ca7c0260d280",
   "metadata": {},
   "outputs": [],
   "source": [
    "# Assignment 1 for ELEE6280 - by Oscar Lares\n",
    "\n",
    "# Some parts of code adapted from these 2 sources: \n",
    "# https://medium.com/data-breach/introduction-to-orb-oriented-fast-and-rotated-brief-4220e8ec40cf\n",
    "# https://github.com/tshanmukh/Facial-KeyPoint-Detection/blob/master/ORB.ipynb\n",
    "\n",
    "# Submitted 2/26/2023"
   ]
  },
  {
   "cell_type": "code",
   "execution_count": 13,
   "id": "44fc3204-77a1-4c1d-8def-d60a99a7f094",
   "metadata": {},
   "outputs": [],
   "source": [
    "#import cv2 and os module needed\n",
    "import os\n",
    "import cv2"
   ]
  },
  {
   "cell_type": "code",
   "execution_count": 14,
   "id": "9cabb14f-967d-495b-98aa-82c476224d0c",
   "metadata": {},
   "outputs": [],
   "source": [
    "#specifying folder path and extension for where images are stored\n",
    "folder_path = 'D:/OneDrive - University of Georgia/School/Classes/ELEE6280 - Intro Robotics/Assignment 1/first_200_right'\n",
    "extension = '.png'"
   ]
  },
  {
   "cell_type": "code",
   "execution_count": 15,
   "id": "2387c1c2-3018-459b-aad8-8e8d78bc5b5b",
   "metadata": {
    "tags": []
   },
   "outputs": [],
   "source": [
    "#load images into an array, use os.listdir to access folder path and read images in loop\n",
    "images = []\n",
    "for filename in sorted(os.listdir(folder_path)):\n",
    "    if filename.endswith(extension):\n",
    "        image = cv2.imread(os.path.join(folder_path, filename))\n",
    "        gray = cv2.cvtColor(image, cv2.COLOR_BGR2GRAY)\n",
    "        images.append(gray)"
   ]
  },
  {
   "cell_type": "code",
   "execution_count": 30,
   "id": "2b1e6b90-55d1-4b90-a109-af4c78a0216a",
   "metadata": {},
   "outputs": [],
   "source": [
    "#create ORB feature detector and find ORB keypoints and descriptors for first image\n",
    "orb = cv2.ORB_create()\n",
    "kp, desc = orb.detectAndCompute(images[0], None)\n",
    "\n",
    "#create a Brute Force matcher object\n",
    "bf = cv2.BFMatcher(cv2.NORM_HAMMING, crossCheck=True)\n",
    "\n",
    "#initialize total keypoint and matched keypoints to help keep track of accuracy\n",
    "total_kp = 0\n",
    "matched_kp = 0"
   ]
  },
  {
   "cell_type": "code",
   "execution_count": 31,
   "id": "ce1a5de1-07c6-4ba4-8912-bbb631c979eb",
   "metadata": {},
   "outputs": [],
   "source": [
    "#create videowriter object to save tracking results to video format\n",
    "fourcc = cv2.VideoWriter_fourcc(*'DIVX')\n",
    "videowriter = cv2.VideoWriter('video_lares.mp4', fourcc, 5, images[0].shape[::-1], False)"
   ]
  },
  {
   "cell_type": "code",
   "execution_count": 32,
   "id": "87cb6a1e-0bcd-474c-a06b-a5f8d871ec86",
   "metadata": {},
   "outputs": [
    {
     "name": "stdout",
     "output_type": "stream",
     "text": [
      "Total keypoints: 100000\n",
      "Matched keypoints: 62620\n",
      "Matching accuracy: 62.62%\n"
     ]
    }
   ],
   "source": [
    "#create loop for remaining images after getting kp and desc for first one in order to track the features\n",
    "for i in range(1, len(images)):\n",
    "    \n",
    "    #find ORB keypoints and descriptors for image 'i'\n",
    "    kp2, desc2 = orb.detectAndCompute(images[i], None)\n",
    "    \n",
    "    #perform the matching between the ORB descriptors of the current image and the previous image\n",
    "    matches = bf.match(desc, desc2)\n",
    "\n",
    "    #the matches with shorter distance are the ones we want\n",
    "    matches = sorted(matches, key = lambda x : x.distance)\n",
    "            \n",
    "    #draw match and keypoints for video write      \n",
    "    img_match = cv2.drawMatches(images[i-1], kp, images[i], kp2, matches, None, flags=cv2.DrawMatchesFlags_NOT_DRAW_SINGLE_POINTS)\n",
    "    cv2.imshow('Matches', img_match)\n",
    "    cv2.waitKey(10)\n",
    "    \n",
    "    #update kp and desc for the next iteration in the loop\n",
    "    kp, desc = kp2, desc2\n",
    "    \n",
    "    #update the count on matched and total keypoints for accuracy calculations later on\n",
    "    total_kp += len(kp2)\n",
    "    matched_kp += len(matches)\n",
    "    \n",
    "    #write tracking results to the output video\n",
    "    videowriter.write(img_match)\n",
    "    \n",
    "#end the video writer object and destroy all windows\n",
    "videowriter.release()\n",
    "cv2.destroyAllWindows()\n",
    "\n",
    "# Calculate and display the matching accuracy\n",
    "matching_accuracy = matched_kp / total_kp * 100\n",
    "print(f'Total keypoints: {total_kp}')\n",
    "print(f'Matched keypoints: {matched_kp}')\n",
    "print(f'Matching accuracy: {matching_accuracy:.2f}%')"
   ]
  },
  {
   "cell_type": "code",
   "execution_count": null,
   "id": "d5fff62e-629d-4ce4-8458-d9b0924eb555",
   "metadata": {},
   "outputs": [],
   "source": []
  }
 ],
 "metadata": {
  "kernelspec": {
   "display_name": "Python 3 (ipykernel)",
   "language": "python",
   "name": "python3"
  },
  "language_info": {
   "codemirror_mode": {
    "name": "ipython",
    "version": 3
   },
   "file_extension": ".py",
   "mimetype": "text/x-python",
   "name": "python",
   "nbconvert_exporter": "python",
   "pygments_lexer": "ipython3",
   "version": "3.9.12"
  }
 },
 "nbformat": 4,
 "nbformat_minor": 5
}
